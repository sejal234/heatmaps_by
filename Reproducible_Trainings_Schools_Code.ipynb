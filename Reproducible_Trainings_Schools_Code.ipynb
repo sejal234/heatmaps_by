{
 "cells": [
  {
   "cell_type": "markdown",
   "id": "6a673366",
   "metadata": {},
   "source": [
    "## Locations of Training Programs & Schools\n",
    "This code visualizes the locations of the schools BY serves (each school that we've hosted a CTD fair) & its training programs. It will print the number of schools & trainings visualized at the bottom.\n",
    "\n",
    "### What you need\n",
    "You will need the pandas, folium, and geopy libraries, along with Python 3, on your computer. <br>\n",
    "I use the \"Trainings and Locations\" & \"Final 2021-2022 CTD Report\" Salesforce reports. The ones I put in this file were pulled July 2022. <br>\n",
    "For trainings, as long as there are \"Training: Training Name\", \"Location (Latitude)\", and \"Location (Latitude)\" columns, the code will work. <br>\n",
    "For schools, as long as there are \"Career Test Drive Name\" and \"School Address\" columns, the code will work. Note that the code will delete entries that do not have full addresses (and therefore not show them on the map), so ensure that the report is complete. <br>\n",
    "Export both reports as a CSV with ISO-8859 Encoding. If the column names are different, change them in my code."
   ]
  },
  {
   "cell_type": "code",
   "execution_count": 1,
   "id": "d577030b",
   "metadata": {},
   "outputs": [],
   "source": [
    "#run this first!\n",
    "\n",
    "#import neccessary libraries\n",
    "import pandas as pd\n",
    "import folium\n",
    "from folium.plugins import MarkerCluster\n",
    "import geopy\n",
    "from geopy.geocoders import Nominatim\n",
    "geolocator = Nominatim(user_agent = 'example app')\n",
    "\n",
    "#the warnings were bothering me so i ask the code 2 ignore them\n",
    "import warnings\n",
    "import pandas as pd\n",
    "from pandas.core.common import SettingWithCopyWarning\n",
    "warnings.simplefilter(action=\"ignore\", category=SettingWithCopyWarning)"
   ]
  },
  {
   "cell_type": "code",
   "execution_count": 2,
   "id": "115e3996",
   "metadata": {},
   "outputs": [
    {
     "name": "stdout",
     "output_type": "stream",
     "text": [
      "Number of Schools: 61\n",
      "Number of Trainings: 225\n"
     ]
    }
   ],
   "source": [
    "#replace variables & then run this code\n",
    "\n",
    "#replace this variable with your path to training programs CSV\n",
    "trainings = pd.read_csv(\"https://raw.githubusercontent.com/sejal234/heatmaps_by/main/data/trainings_full.csv\", encoding = \"ISO-8859-1\")\n",
    "\n",
    "#replace this variable with your path to schools CSV\n",
    "schools = pd.read_csv(\"https://raw.githubusercontent.com/sejal234/heatmaps_by/main/data/CTD_sf_report.csv\")\n",
    "\n",
    "#replace this variable with the path in your computer you want to save the map to\n",
    "save = '/Users/sejalgupta/Documents/heatmap_docs/trainings_schools_map_updated.html'\n",
    "\n",
    "#uncomment to look at the data\n",
    "#trainings.head()\n",
    "#schools.head()\n",
    "\n",
    "#uncomment to find the number of total schools, before deleting entries\n",
    "print(\"Number of Schools:\", len(schools))\n",
    "print(\"Number of Trainings:\", len(trainings))"
   ]
  },
  {
   "cell_type": "code",
   "execution_count": 3,
   "id": "5f6cc766",
   "metadata": {},
   "outputs": [
    {
     "name": "stdout",
     "output_type": "stream",
     "text": [
      "Number of Schools: 51\n",
      "Number of Trainings: 221\n"
     ]
    }
   ],
   "source": [
    "#run the code below!\n",
    "\n",
    "def clean_schools(schools):\n",
    "    #remove schools w/o addresses\n",
    "    schools = schools.dropna(subset = ['School Address'])\n",
    "    \n",
    "    #edit out <br>\n",
    "    schools = schools.replace('<br>',' ', regex=True)\n",
    "    \n",
    "    #find long, lat coordinates\n",
    "    schools[\"loc\"] = schools[\"School Address\"].apply(geolocator.geocode)\n",
    "    schools[\"point\"]= schools[\"loc\"].apply(lambda loc: tuple(loc.point) if loc else None)\n",
    "    \n",
    "    #remove schools it did not find coordinates for \n",
    "        #(usually if address is incomplete)\n",
    "    schools = schools.dropna(subset = ['point'])\n",
    "    \n",
    "    #split the .point into separate columns 'lat' 'lon' and 'altitude'\n",
    "    schools[['lat', 'lon', 'altitude']] = pd.DataFrame(schools['point'].to_list(), index=schools.index)\n",
    "    \n",
    "    #keep just the columns i want\n",
    "    schools = schools[[\"Career Test Drive Name\", \"School Address\", \"lat\", \"lon\"]]\n",
    "    \n",
    "    #uncomment if you don't need\n",
    "    print(\"Number of Schools:\", len(schools))\n",
    "    \n",
    "    return schools\n",
    "\n",
    "def clean_trainings(trainings):\n",
    "    #theres a lot of repeats, need to only keep unique values\n",
    "    trainings = trainings.drop_duplicates()\n",
    "    \n",
    "    #some don't have locations\n",
    "    trainings = trainings.dropna(subset = ['Location (Latitude)'])\n",
    "    \n",
    "    #uncomment if you don't need\n",
    "    print(\"Number of Trainings:\", len(trainings))\n",
    "    \n",
    "    return trainings \n",
    "    \n",
    "def make_map(schools, trainings, save):\n",
    "    schools = clean_schools(schools)\n",
    "    trainings = clean_trainings(trainings)\n",
    "    htx = folium.Map(location=[29.749907, -95.358421], tiles = 'cartodbpositron', zoom_start=11)\n",
    "    \n",
    "    #add schools\n",
    "    for i,r in schools.iterrows():\n",
    "        location = (r[\"lat\"], r[\"lon\"])\n",
    "        folium.Marker(location=location,\n",
    "                          popup = r['Career Test Drive Name'],\n",
    "                          tooltip=r[\"Career Test Drive Name\"],\n",
    "                     icon=folium.Icon(color = 'blue', icon = 'book'))\\\n",
    "        .add_to(htx)\n",
    "\n",
    "    #add training programs\n",
    "    for i,r in trainings.iterrows():\n",
    "        #if the column names are diff in your input report, edit them below\n",
    "        location = (r[\"Location (Latitude)\"], r[\"Location (Longitude)\"])\n",
    "        folium.Marker(location=location,\n",
    "                      popup = r['Training: Training Name'],\n",
    "                      tooltip=r[\"Training: Training Name\"],\n",
    "                     icon=folium.Icon(color = 'red', icon = 'briefcase'))\\\n",
    "        .add_to(htx)\n",
    "    htx.save(save)\n",
    "    return htx\n",
    "\n",
    "make_map(schools, trainings, save)"
   ]
  },
  {
   "cell_type": "code",
   "execution_count": null,
   "id": "88663360",
   "metadata": {},
   "outputs": [],
   "source": []
  }
 ],
 "metadata": {
  "kernelspec": {
   "display_name": "Python 3 (ipykernel)",
   "language": "python",
   "name": "python3"
  },
  "language_info": {
   "codemirror_mode": {
    "name": "ipython",
    "version": 3
   },
   "file_extension": ".py",
   "mimetype": "text/x-python",
   "name": "python",
   "nbconvert_exporter": "python",
   "pygments_lexer": "ipython3",
   "version": "3.9.7"
  }
 },
 "nbformat": 4,
 "nbformat_minor": 5
}
